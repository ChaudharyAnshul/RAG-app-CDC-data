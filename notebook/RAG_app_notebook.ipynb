{
 "cells": [
  {
   "cell_type": "markdown",
   "metadata": {},
   "source": [
    "# Test RAG app\n",
    "this notebook is to test the flow of the CDC rag application "
   ]
  },
  {
   "cell_type": "markdown",
   "metadata": {},
   "source": [
    "#### Step1: Use the LLM in vertex AI to get the target decease name  "
   ]
  },
  {
   "cell_type": "code",
   "execution_count": 1,
   "metadata": {},
   "outputs": [
    {
     "name": "stderr",
     "output_type": "stream",
     "text": [
      "d:\\Genassis\\project\\RAG-app-CDC-data\\venv\\Lib\\site-packages\\tqdm\\auto.py:21: TqdmWarning: IProgress not found. Please update jupyter and ipywidgets. See https://ipywidgets.readthedocs.io/en/stable/user_install.html\n",
      "  from .autonotebook import tqdm as notebook_tqdm\n"
     ]
    }
   ],
   "source": [
    "import vertexai\n",
    "from vertexai.language_models import TextGenerationModel\n",
    "from transformers import AutoTokenizer, AutoModel\n",
    "import torch\n",
    "from google.cloud import bigquery\n",
    "import configparser"
   ]
  },
  {
   "cell_type": "code",
   "execution_count": 2,
   "metadata": {},
   "outputs": [
    {
     "data": {
      "text/plain": [
       "['configuration.properties']"
      ]
     },
     "execution_count": 2,
     "metadata": {},
     "output_type": "execute_result"
    }
   ],
   "source": [
    "config = configparser.ConfigParser()\n",
    "config.read('configuration.properties')"
   ]
  },
  {
   "cell_type": "code",
   "execution_count": 3,
   "metadata": {},
   "outputs": [],
   "source": [
    "# vertex AI config\n",
    "project = config['VertexAI']['project']\n",
    "endpoint_id = config['VertexAI']['endpoint_id']\n",
    "location = config['VertexAI']['location']\n",
    "api_endpoint = config['VertexAI']['api_endpoint']\n",
    "model_pretrained = config['VertexAI']['model_pretrained']"
   ]
  },
  {
   "cell_type": "code",
   "execution_count": 4,
   "metadata": {},
   "outputs": [],
   "source": [
    "vertexai.init(project=project, location=location)"
   ]
  },
  {
   "cell_type": "code",
   "execution_count": 5,
   "metadata": {},
   "outputs": [],
   "source": [
    "parameters = {\n",
    "  \"max_output_tokens\": 1024,\n",
    "  \"temperature\": 0.9,\n",
    "  \"top_p\": 1\n",
    "}"
   ]
  },
  {
   "cell_type": "code",
   "execution_count": 6,
   "metadata": {},
   "outputs": [],
   "source": [
    "model_llm = TextGenerationModel.from_pretrained(model_pretrained)"
   ]
  },
  {
   "cell_type": "code",
   "execution_count": 7,
   "metadata": {},
   "outputs": [],
   "source": [
    "model_llm = model_llm.get_tuned_model(f\"projects/{project}/locations/{location}/models/{endpoint_id}\")"
   ]
  },
  {
   "cell_type": "code",
   "execution_count": 8,
   "metadata": {},
   "outputs": [],
   "source": [
    "question = \"I am looking to treatment for Stroke. highlighting key clinical trials, regulatory and reimbursement insights to consider and emerging competitor landscapes.\""
   ]
  },
  {
   "cell_type": "code",
   "execution_count": 9,
   "metadata": {},
   "outputs": [
    {
     "name": "stdout",
     "output_type": "stream",
     "text": [
      " Stroke\n"
     ]
    }
   ],
   "source": [
    "response = model_llm.predict(\n",
    "  f\"\"\" {question} what disease is being targeted? Return only the disease name as a single word.\"\"\",\n",
    "  **parameters\n",
    ")\n",
    "print(f\"{response.text}\")"
   ]
  },
  {
   "cell_type": "code",
   "execution_count": 10,
   "metadata": {},
   "outputs": [],
   "source": [
    "name = response.text"
   ]
  },
  {
   "cell_type": "markdown",
   "metadata": {},
   "source": [
    "### Step2: Embed the name and search for similar content in Big Query"
   ]
  },
  {
   "cell_type": "code",
   "execution_count": 11,
   "metadata": {},
   "outputs": [],
   "source": [
    "# Tokenizer config\n",
    "model_name = config['Tokenizer']['model_name']"
   ]
  },
  {
   "cell_type": "code",
   "execution_count": 12,
   "metadata": {},
   "outputs": [],
   "source": [
    "tokenizer_embed = AutoTokenizer.from_pretrained(model_name)\n",
    "model_embed = AutoModel.from_pretrained(model_name)"
   ]
  },
  {
   "cell_type": "code",
   "execution_count": 13,
   "metadata": {},
   "outputs": [],
   "source": [
    "def generateEmbedding(text):\n",
    "  inputs = tokenizer_embed(text, padding=True, truncation=True, return_tensors=\"pt\")\n",
    "  with torch.no_grad():\n",
    "    outputs = model_embed(**inputs)\n",
    "  embeddings = outputs.last_hidden_state.mean(dim=1)\n",
    "  embeddings_list = embeddings.tolist()\n",
    "  return embeddings_list[0]"
   ]
  },
  {
   "cell_type": "code",
   "execution_count": 14,
   "metadata": {},
   "outputs": [
    {
     "name": "stderr",
     "output_type": "stream",
     "text": [
      "Asking to truncate to max_length but no maximum length is provided and the model has no predefined maximum length. Default to no truncation.\n"
     ]
    }
   ],
   "source": [
    "embedding = generateEmbedding(name)"
   ]
  },
  {
   "cell_type": "code",
   "execution_count": 15,
   "metadata": {},
   "outputs": [],
   "source": [
    "# Initialize BigQuery client\n",
    "bq_client = bigquery.Client()"
   ]
  },
  {
   "cell_type": "code",
   "execution_count": 17,
   "metadata": {},
   "outputs": [],
   "source": [
    "project_id = config['BigQuery']['project_id']\n",
    "dataset_id = config['BigQuery']['dataset_id']\n",
    "table_id = config['BigQuery']['table_id']"
   ]
  },
  {
   "cell_type": "code",
   "execution_count": 49,
   "metadata": {},
   "outputs": [],
   "source": [
    "query = f\"\"\"\n",
    "WITH query AS (\n",
    "  SELECT {embedding} AS query_vector\n",
    "),\n",
    "similarity AS (\n",
    "  SELECT\n",
    "    title,\n",
    "    link,\n",
    "    dataSetCode,\n",
    "    dataSetType,\n",
    "    description,\n",
    "    updateDate,\n",
    "    keywords,\n",
    "    reportLocation,\n",
    "    embedding,\n",
    "    (SELECT SUM(qv * ev)\n",
    "      FROM UNNEST(query_vector) AS qv WITH OFFSET AS q_idx\n",
    "      JOIN UNNEST(embedding) AS ev WITH OFFSET AS e_idx\n",
    "      ON q_idx = e_idx) AS dot_product,\n",
    "    SQRT((SELECT SUM(POW(qv, 2))\n",
    "          FROM UNNEST(query_vector) AS qv)) AS query_magnitude,\n",
    "    SQRT((SELECT SUM(POW(ev, 2))\n",
    "          FROM UNNEST(embedding) AS ev)) AS embedding_magnitude\n",
    "  FROM\n",
    "    `{project_id}.{dataset_id}.{table_id}`, query\n",
    "),\n",
    "final AS (\n",
    "  SELECT\n",
    "    title,\n",
    "    link,\n",
    "    dataSetCode,\n",
    "    dataSetType,\n",
    "    description,\n",
    "    updateDate,\n",
    "    keywords,\n",
    "    reportLocation,\n",
    "    dot_product / (query_magnitude * embedding_magnitude) AS cosine_similarity\n",
    "  FROM\n",
    "    similarity\n",
    ")\n",
    "SELECT\n",
    "  title,\n",
    "  link,\n",
    "  dataSetCode,\n",
    "  dataSetType,\n",
    "  description,\n",
    "  updateDate,\n",
    "  keywords,\n",
    "  reportLocation,\n",
    "  cosine_similarity\n",
    "FROM\n",
    "  final\n",
    "ORDER BY\n",
    "  cosine_similarity DESC\n",
    "LIMIT 3;\n",
    "\"\"\""
   ]
  },
  {
   "cell_type": "code",
   "execution_count": 50,
   "metadata": {},
   "outputs": [],
   "source": [
    "query_job = bq_client.query(query)"
   ]
  },
  {
   "cell_type": "code",
   "execution_count": 51,
   "metadata": {},
   "outputs": [],
   "source": [
    "results = query_job.result()"
   ]
  },
  {
   "cell_type": "code",
   "execution_count": 52,
   "metadata": {},
   "outputs": [
    {
     "name": "stdout",
     "output_type": "stream",
     "text": [
      "kgsi-35re, Cosine Similarity: 1.0\n",
      "kpwh-eddm, Cosine Similarity: 1.0\n",
      "dhsy-4sea, Cosine Similarity: 1.0\n"
     ]
    }
   ],
   "source": [
    "similar_data = {}\n",
    "for row in results:\n",
    "  if row.cosine_similarity >= 0.85:\n",
    "    similar_data[row.dataSetCode] = row\n",
    "  print(f\"{row.dataSetCode}, Cosine Similarity: {row.cosine_similarity}\")"
   ]
  },
  {
   "cell_type": "code",
   "execution_count": 54,
   "metadata": {},
   "outputs": [
    {
     "name": "stdout",
     "output_type": "stream",
     "text": [
      "{'kgsi-35re': Row(('Stroke Mortality Data Among US Adults (35+) by State/Territory and County', 'https://data.cdc.gov/Heart-Disease-Stroke-Prevention/Stroke-Mortality-Data-Among-US-Adults-35-by-State-/kgsi-35re', 'kgsi-35re', 'Dataset', '2014 to 2016, 3-year average. Rates are age-standardized. County rates are spatially smoothed. The data can be viewed by gender and race/ethnicity. Data source: National Vital Statistics System. Additional data, maps, and methodology can be viewed on the Interactive Atlas of Heart Disease and Stroke http://www.cdc.gov/dhdsp/maps/atlas', '24/08/2023', 'Stroke', 'reports/kgsi-35re.html', 1.0), {'title': 0, 'link': 1, 'dataSetCode': 2, 'dataSetType': 3, 'description': 4, 'updateDate': 5, 'keywords': 6, 'reportLocation': 7, 'cosine_similarity': 8}), 'kpwh-eddm': Row(('Stroke Mortality Data Among US Adults (35+) by State/Territory and County', 'https://data.cdc.gov/Heart-Disease-Stroke-Prevention/Stroke-Mortality-Data-Among-US-Adults-35-by-State-/kpwh-eddm', 'kpwh-eddm', 'Dataset', '2013 to 2015, 3-year average. Rates are age-standardized. County rates are spatially smoothed. The data can be viewed by gender and race/ethnicity. Data source: National Vital Statistics System. Additional data, maps, and methodology can be viewed on the Interactive Atlas of Heart Disease and Stroke http://www.cdc.gov/dhdsp/maps/atlas', '25/08/2023', 'Stroke', 'reports/kpwh-eddm.html', 1.0), {'title': 0, 'link': 1, 'dataSetCode': 2, 'dataSetType': 3, 'description': 4, 'updateDate': 5, 'keywords': 6, 'reportLocation': 7, 'cosine_similarity': 8}), 'dhsy-4sea': Row(('Stroke Mortality Data Among US Adults (35+) by State/Territory and County', 'https://data.cdc.gov/Heart-Disease-Stroke-Prevention/Stroke-Mortality-Data-Among-US-Adults-35-by-State-/dhsy-4sea', 'dhsy-4sea', 'Dataset', '2012 to 2014, 3-year average. Rates are age-standardized. County rates are spatially smoothed. The data can be viewed by gender and race/ethnicity. Data source: National Vital Statistics System. Additional data, maps, and methodology can be viewed on the Interactive Atlas of Heart Disease and Stroke http://www.cdc.gov/dhdsp/maps/atlas', '25/08/2023', 'Stroke', 'reports/dhsy-4sea.html', 1.0), {'title': 0, 'link': 1, 'dataSetCode': 2, 'dataSetType': 3, 'description': 4, 'updateDate': 5, 'keywords': 6, 'reportLocation': 7, 'cosine_similarity': 8})}\n"
     ]
    }
   ],
   "source": [
    "if len(similar_data) == 0:\n",
    "  print('no relevant data')\n",
    "else:\n",
    "  print(similar_data)"
   ]
  },
  {
   "cell_type": "markdown",
   "metadata": {},
   "source": [
    "### Step3: RAG application data"
   ]
  },
  {
   "cell_type": "code",
   "execution_count": 82,
   "metadata": {},
   "outputs": [],
   "source": [
    "description = \"\"\n",
    "links = []\n",
    "reports = []\n",
    "title = []\n",
    "for id, row in similar_data.items():\n",
    "  description += \"**title:** \" + row.title + \" **description:** \" + row.description + \" \\n \"\n",
    "  links.append(row.link)\n",
    "  reports.append(row.reportLocation)\n",
    "  title.append(row.title)"
   ]
  },
  {
   "cell_type": "code",
   "execution_count": 75,
   "metadata": {},
   "outputs": [
    {
     "data": {
      "text/plain": [
       "'**title:** Stroke Mortality Data Among US Adults (35+) by State/Territory and County **description:** 2014 to 2016, 3-year average. Rates are age-standardized. County rates are spatially smoothed. The data can be viewed by gender and race/ethnicity. Data source: National Vital Statistics System. Additional data, maps, and methodology can be viewed on the Interactive Atlas of Heart Disease and Stroke http://www.cdc.gov/dhdsp/maps/atlas \\n **title:** Stroke Mortality Data Among US Adults (35+) by State/Territory and County **description:** 2013 to 2015, 3-year average. Rates are age-standardized. County rates are spatially smoothed. The data can be viewed by gender and race/ethnicity. Data source: National Vital Statistics System. Additional data, maps, and methodology can be viewed on the Interactive Atlas of Heart Disease and Stroke http://www.cdc.gov/dhdsp/maps/atlas \\n **title:** Stroke Mortality Data Among US Adults (35+) by State/Territory and County **description:** 2012 to 2014, 3-year average. Rates are age-standardized. County rates are spatially smoothed. The data can be viewed by gender and race/ethnicity. Data source: National Vital Statistics System. Additional data, maps, and methodology can be viewed on the Interactive Atlas of Heart Disease and Stroke http://www.cdc.gov/dhdsp/maps/atlas \\n '"
      ]
     },
     "execution_count": 75,
     "metadata": {},
     "output_type": "execute_result"
    }
   ],
   "source": [
    "description"
   ]
  },
  {
   "cell_type": "code",
   "execution_count": 79,
   "metadata": {},
   "outputs": [
    {
     "name": "stdout",
     "output_type": "stream",
     "text": [
      " **2014-2016:** A comparison between urban and rural areas reveals a distinct pattern of stroke mortality rates, with rural counties generally exhibiting higher rates of mortality in the US. While the difference may be attributed to health care disparities and limited resources in rural areas, its causes are not fully explained. These results suggest a need for targeted interventions and policies to address stroke-related health issues in rural areas.\n",
      "**2013-2015:** The study identifies a disparity in stroke mortality rates between certain states, with some states exhibiting significantly higher rates of stroke-related mortality. This variation is likely due to factors such as healthcare disparities, population characteristics, and public health initiatives. The findings underscore the need for comprehensive stroke prevention and management strategies, addressing both population health and health system factors.\n",
      "**2012-2014:** The analysis of stroke mortality rates reveals a gradual decline in rates for urban areas between 2012 and 2014, suggesting the effectiveness of public health initiatives in reducing stroke risk. However, rural areas saw little improvement in stroke mortality rates during this period, highlighting the need for more targeted interventions and policy measures to address this issue.\n",
      "\n",
      "The spatial distribution of stroke mortality emphasizes the need for state-specific and county-specific approaches to stroke prevention. Understanding the disparities and dynamics of these patterns is critical for developing tailored interventions, promoting stroke awareness, and ensuring equitable access to stroke care in both urban and rural communities.\n"
     ]
    }
   ],
   "source": [
    "response = model_llm.predict(\n",
    "  f\"\"\"summaries the following text {description}\"\"\",\n",
    "  **parameters\n",
    ")\n",
    "print(f\"{response.text}\")"
   ]
  },
  {
   "cell_type": "code",
   "execution_count": 80,
   "metadata": {},
   "outputs": [],
   "source": [
    "result = response.text"
   ]
  },
  {
   "cell_type": "code",
   "execution_count": 83,
   "metadata": {},
   "outputs": [
    {
     "name": "stdout",
     "output_type": "stream",
     "text": [
      " **2014-2016:** A comparison between urban and rural areas reveals a distinct pattern of stroke mortality rates, with rural counties generally exhibiting higher rates of mortality in the US. While the difference may be attributed to health care disparities and limited resources in rural areas, its causes are not fully explained. These results suggest a need for targeted interventions and policies to address stroke-related health issues in rural areas.\n",
      "**2013-2015:** The study identifies a disparity in stroke mortality rates between certain states, with some states exhibiting significantly higher rates of stroke-related mortality. This variation is likely due to factors such as healthcare disparities, population characteristics, and public health initiatives. The findings underscore the need for comprehensive stroke prevention and management strategies, addressing both population health and health system factors.\n",
      "**2012-2014:** The analysis of stroke mortality rates reveals a gradual decline in rates for urban areas between 2012 and 2014, suggesting the effectiveness of public health initiatives in reducing stroke risk. However, rural areas saw little improvement in stroke mortality rates during this period, highlighting the need for more targeted interventions and policy measures to address this issue.\n",
      "\n",
      "The spatial distribution of stroke mortality emphasizes the need for state-specific and county-specific approaches to stroke prevention. Understanding the disparities and dynamics of these patterns is critical for developing tailored interventions, promoting stroke awareness, and ensuring equitable access to stroke care in both urban and rural communities.\n",
      "['https://data.cdc.gov/Heart-Disease-Stroke-Prevention/Stroke-Mortality-Data-Among-US-Adults-35-by-State-/kgsi-35re', 'https://data.cdc.gov/Heart-Disease-Stroke-Prevention/Stroke-Mortality-Data-Among-US-Adults-35-by-State-/kpwh-eddm', 'https://data.cdc.gov/Heart-Disease-Stroke-Prevention/Stroke-Mortality-Data-Among-US-Adults-35-by-State-/dhsy-4sea']\n",
      "['reports/kgsi-35re.html', 'reports/kpwh-eddm.html', 'reports/dhsy-4sea.html']\n",
      "['Stroke Mortality Data Among US Adults (35+) by State/Territory and County', 'Stroke Mortality Data Among US Adults (35+) by State/Territory and County', 'Stroke Mortality Data Among US Adults (35+) by State/Territory and County']\n"
     ]
    }
   ],
   "source": [
    "# return \n",
    "print(result)\n",
    "print(links)\n",
    "print(reports)\n",
    "print(title)"
   ]
  },
  {
   "cell_type": "code",
   "execution_count": null,
   "metadata": {},
   "outputs": [],
   "source": []
  }
 ],
 "metadata": {
  "kernelspec": {
   "display_name": "venv",
   "language": "python",
   "name": "python3"
  },
  "language_info": {
   "codemirror_mode": {
    "name": "ipython",
    "version": 3
   },
   "file_extension": ".py",
   "mimetype": "text/x-python",
   "name": "python",
   "nbconvert_exporter": "python",
   "pygments_lexer": "ipython3",
   "version": "3.11.5"
  }
 },
 "nbformat": 4,
 "nbformat_minor": 2
}
